{
 "cells": [
  {
   "cell_type": "code",
   "execution_count": 1,
   "metadata": {},
   "outputs": [
    {
     "name": "stdout",
     "output_type": "stream",
     "text": [
      "3 8\n",
      "3 30\n",
      "4 50\n",
      "5 60\n"
     ]
    }
   ],
   "source": [
    "N,W = map(int,input().split())\n",
    "w,v = [0]*N,[0]*N\n",
    "for i in range(N):\n",
    "    w[i],v[i] = map(int,input().split())"
   ]
  },
  {
   "cell_type": "code",
   "execution_count": 6,
   "metadata": {},
   "outputs": [
    {
     "name": "stdout",
     "output_type": "stream",
     "text": [
      "90\n"
     ]
    }
   ],
   "source": [
    "dp = [[0]*(W+1) for i in range(N+1)]\n",
    "\n",
    "#w[i]を使うかどうか\n",
    "for i in range(N):\n",
    "    #ナップサックの残りの容量\n",
    "    for j in range(W+1):\n",
    "        if j >= w[i]:\n",
    "            dp[i+1][j] = max(dp[i][j-w[i]]+v[i],dp[i][j])\n",
    "        else:\n",
    "            dp[i+1][j] = dp[i][j]\n",
    "            \n",
    "print(dp[N][W])\n",
    "            "
   ]
  }
 ],
 "metadata": {
  "kernelspec": {
   "display_name": "Python 3",
   "language": "python",
   "name": "python3"
  },
  "language_info": {
   "codemirror_mode": {
    "name": "ipython",
    "version": 3
   },
   "file_extension": ".py",
   "mimetype": "text/x-python",
   "name": "python",
   "nbconvert_exporter": "python",
   "pygments_lexer": "ipython3",
   "version": "3.7.4"
  }
 },
 "nbformat": 4,
 "nbformat_minor": 2
}
