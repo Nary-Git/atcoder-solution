{
 "cells": [
  {
   "cell_type": "code",
   "execution_count": 2,
   "metadata": {},
   "outputs": [
    {
     "name": "stdout",
     "output_type": "stream",
     "text": [
      "3 8\n",
      "3 30\n",
      "4 50\n",
      "5 60\n"
     ]
    }
   ],
   "source": [
    "N,W = map(int,input().split())\n",
    "w,v = [0]*N,[0]*N\n",
    "for i in range(N):\n",
    "    w[i],v[i] = map(int,input().split())"
   ]
  },
  {
   "cell_type": "code",
   "execution_count": 9,
   "metadata": {},
   "outputs": [
    {
     "name": "stdout",
     "output_type": "stream",
     "text": [
      "90\n"
     ]
    }
   ],
   "source": [
    "dp = [[10**9+1]*(sum(v)+1) for i in range(N+1)]\n",
    "dp[0][0] = 0\n",
    "\n",
    "#v[i]を使うかどうか\n",
    "for i in range(N):\n",
    "    #価値がjのときの最小の重さ総量\n",
    "    for j in range(sum(v)+1):\n",
    "        if j >= v[i]:\n",
    "            dp[i+1][j] = min(dp[i][j-v[i]]+w[i],dp[i][j])\n",
    "        else:\n",
    "            dp[i+1][j] = dp[i][j]\n",
    "            \n",
    "ans = 0\n",
    "\n",
    "for i in range(sum(v)+1):\n",
    "    if dp[N][i] <= W:\n",
    "        ans = max(ans,i)\n",
    "print(ans)"
   ]
  }
 ],
 "metadata": {
  "kernelspec": {
   "display_name": "Python 3",
   "language": "python",
   "name": "python3"
  },
  "language_info": {
   "codemirror_mode": {
    "name": "ipython",
    "version": 3
   },
   "file_extension": ".py",
   "mimetype": "text/x-python",
   "name": "python",
   "nbconvert_exporter": "python",
   "pygments_lexer": "ipython3",
   "version": "3.7.4"
  }
 },
 "nbformat": 4,
 "nbformat_minor": 2
}
