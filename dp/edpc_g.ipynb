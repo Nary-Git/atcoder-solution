{
 "cells": [
  {
   "cell_type": "code",
   "execution_count": null,
   "metadata": {},
   "outputs": [],
   "source": [
    "import sys\n",
    "sys.setrecursionlimit(10 ** 9)\n",
    "\n",
    "n,m = map(int,input().split())\n",
    "g = [[] for i in range(n)]\n",
    " \n",
    "for i in range(m):\n",
    "    x,y = map(int,input().split())\n",
    "    x -= 1\n",
    "    y -= 1\n",
    "    g[x].append(y)"
   ]
  },
  {
   "cell_type": "code",
   "execution_count": null,
   "metadata": {},
   "outputs": [],
   "source": [
    "dp = [-1]*n\n",
    " \n",
    "def dfs(i):\n",
    "    #すでに計算されているなら\n",
    "    if dp[i] != -1:\n",
    "        return dp[i]\n",
    "    #初期は長さ0\n",
    "    tmp = 0\n",
    "    #iからスタートしてつながっているところにDFS\n",
    "    for j in g[i]:\n",
    "        #今までの距離と比較\n",
    "        tmp = max(tmp, dfs(j) + 1)\n",
    "    #dp[i]はiからスタートして最長距離が記録される\n",
    "    #空のリストにたどり着いたらDFS終わり\n",
    "    dp[i] = tmp\n",
    "    return tmp\n",
    " \n",
    "for i in range(n):\n",
    "    dfs(i)\n",
    "\n",
    "print(max(dp))"
   ]
  }
 ],
 "metadata": {
  "kernelspec": {
   "display_name": "Python 3",
   "language": "python",
   "name": "python3"
  },
  "language_info": {
   "codemirror_mode": {
    "name": "ipython",
    "version": 3
   },
   "file_extension": ".py",
   "mimetype": "text/x-python",
   "name": "python",
   "nbconvert_exporter": "python",
   "pygments_lexer": "ipython3",
   "version": "3.7.4"
  }
 },
 "nbformat": 4,
 "nbformat_minor": 2
}
