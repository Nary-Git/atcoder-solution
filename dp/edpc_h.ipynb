{
 "cells": [
  {
   "cell_type": "code",
   "execution_count": 2,
   "metadata": {},
   "outputs": [
    {
     "name": "stdout",
     "output_type": "stream",
     "text": [
      "3 4\n",
      "...#\n",
      ".#..\n",
      "....\n"
     ]
    }
   ],
   "source": [
    "H,W = map(int,input().split())\n",
    "a = [input() for i in range(H)]"
   ]
  },
  {
   "cell_type": "code",
   "execution_count": 11,
   "metadata": {},
   "outputs": [
    {
     "name": "stdout",
     "output_type": "stream",
     "text": [
      "3\n"
     ]
    }
   ],
   "source": [
    "dp = [[0]*(W+1) for i in range(H+1)]\n",
    "mod = 10**9+7\n",
    "\n",
    "for i in range(1,H+1):\n",
    "    for j in range(1,W+1):\n",
    "        if a[i-1][j-1] == '.':\n",
    "            dp[i][j] = (dp[i-1][j] + dp[i][j-1])%mod\n",
    "        else:\n",
    "            dp[i][j] = 0\n",
    "            \n",
    "        if i == 1 and j == 1:\n",
    "            dp[i][j] = 1\n",
    "            \n",
    "print(dp[-1][-1])"
   ]
  }
 ],
 "metadata": {
  "kernelspec": {
   "display_name": "Python 3",
   "language": "python",
   "name": "python3"
  },
  "language_info": {
   "codemirror_mode": {
    "name": "ipython",
    "version": 3
   },
   "file_extension": ".py",
   "mimetype": "text/x-python",
   "name": "python",
   "nbconvert_exporter": "python",
   "pygments_lexer": "ipython3",
   "version": "3.7.4"
  }
 },
 "nbformat": 4,
 "nbformat_minor": 2
}
