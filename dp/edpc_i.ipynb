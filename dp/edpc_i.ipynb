{
 "cells": [
  {
   "cell_type": "code",
   "execution_count": 3,
   "metadata": {},
   "outputs": [
    {
     "name": "stdout",
     "output_type": "stream",
     "text": [
      "3\n",
      "0.30 0.60 0.80\n"
     ]
    }
   ],
   "source": [
    "N = int(input())\n",
    "p = list(map(float,input().split()))"
   ]
  },
  {
   "cell_type": "code",
   "execution_count": 28,
   "metadata": {},
   "outputs": [
    {
     "name": "stdout",
     "output_type": "stream",
     "text": [
      "0.612\n"
     ]
    }
   ],
   "source": [
    "dp = [[0]*(N+1) for i in range(N)]\n",
    "\n",
    "dp[0][0] = 1-p[0]\n",
    "dp[0][1] = p[0]\n",
    "\n",
    "for i in range(1,N):\n",
    "    dp[i][0] = (1-p[i])*dp[i-1][0]\n",
    "    for j in range(1,i+2):\n",
    "        dp[i][j] = dp[i-1][j-1]*p[i] + dp[i-1][j]*(1-p[i])\n",
    "        \n",
    "print(sum(dp[-1][(N+1)//2:]))"
   ]
  }
 ],
 "metadata": {
  "kernelspec": {
   "display_name": "Python 3",
   "language": "python",
   "name": "python3"
  },
  "language_info": {
   "codemirror_mode": {
    "name": "ipython",
    "version": 3
   },
   "file_extension": ".py",
   "mimetype": "text/x-python",
   "name": "python",
   "nbconvert_exporter": "python",
   "pygments_lexer": "ipython3",
   "version": "3.7.4"
  }
 },
 "nbformat": 4,
 "nbformat_minor": 2
}
