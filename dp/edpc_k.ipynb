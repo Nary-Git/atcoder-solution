{
 "cells": [
  {
   "cell_type": "code",
   "execution_count": 2,
   "metadata": {},
   "outputs": [
    {
     "name": "stdout",
     "output_type": "stream",
     "text": [
      "3 20\n",
      "3 4 10\n"
     ]
    }
   ],
   "source": [
    "N,K = map(int,input().split())\n",
    "a = list(map(int,input().split()))"
   ]
  },
  {
   "cell_type": "code",
   "execution_count": 3,
   "metadata": {},
   "outputs": [
    {
     "name": "stdout",
     "output_type": "stream",
     "text": [
      "[False, False, False, True, True, True, True, False, False, False, True, True, True, True, False, False, False, True, True, True, True]\n",
      "First\n"
     ]
    }
   ],
   "source": [
    "dp = [False]*(K+1)\n",
    "\n",
    "for i in range(1,K+1):\n",
    "    #初期化\n",
    "    judge = False\n",
    "    #選択できる石を選ぶ\n",
    "    for stone in a:\n",
    "        #小さい石から選ぶのでこの時点で負け\n",
    "        if i - stone < 0:\n",
    "            break\n",
    "        #ひとつでも勝てるパターンが見つかり次第break\n",
    "        if dp[i-stone] == False:\n",
    "            judge = True\n",
    "            break\n",
    "    dp[i] = judge\n",
    "            \n",
    "print(dp)\n",
    "print('First' if dp[K] else 'Second')"
   ]
  },
  {
   "cell_type": "code",
   "execution_count": null,
   "metadata": {},
   "outputs": [],
   "source": []
  }
 ],
 "metadata": {
  "kernelspec": {
   "display_name": "Python 3",
   "language": "python",
   "name": "python3"
  },
  "language_info": {
   "codemirror_mode": {
    "name": "ipython",
    "version": 3
   },
   "file_extension": ".py",
   "mimetype": "text/x-python",
   "name": "python",
   "nbconvert_exporter": "python",
   "pygments_lexer": "ipython3",
   "version": "3.7.4"
  }
 },
 "nbformat": 4,
 "nbformat_minor": 2
}
