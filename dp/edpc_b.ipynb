{
 "cells": [
  {
   "cell_type": "code",
   "execution_count": 1,
   "metadata": {},
   "outputs": [
    {
     "name": "stdout",
     "output_type": "stream",
     "text": [
      "5 3\n",
      "10 30 40 50 20\n"
     ]
    }
   ],
   "source": [
    "N,K = map(int,input().split())\n",
    "h = list(map(int,input().split()))"
   ]
  },
  {
   "cell_type": "code",
   "execution_count": 8,
   "metadata": {},
   "outputs": [
    {
     "name": "stdout",
     "output_type": "stream",
     "text": [
      "[0, 20, 30, 40, 30]\n"
     ]
    }
   ],
   "source": [
    "dp = [0]*N\n",
    "\n",
    "#dp[i]は位置iにたどり着くための最小コスト\n",
    "for i in range(1,N):\n",
    "    #for j in range(max(i-K,0),i)はジャンプして位置iまで行ける範囲\n",
    "    dp[i] = min(dp[j]+abs(h[j]-h[i]) for j in range(max(i-K,0),i))\n",
    "print(dp[N-1])"
   ]
  }
 ],
 "metadata": {
  "kernelspec": {
   "display_name": "Python 3",
   "language": "python",
   "name": "python3"
  },
  "language_info": {
   "codemirror_mode": {
    "name": "ipython",
    "version": 3
   },
   "file_extension": ".py",
   "mimetype": "text/x-python",
   "name": "python",
   "nbconvert_exporter": "python",
   "pygments_lexer": "ipython3",
   "version": "3.7.4"
  }
 },
 "nbformat": 4,
 "nbformat_minor": 2
}
