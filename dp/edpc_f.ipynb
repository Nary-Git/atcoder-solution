{
 "cells": [
  {
   "cell_type": "code",
   "execution_count": 1,
   "metadata": {},
   "outputs": [
    {
     "name": "stdout",
     "output_type": "stream",
     "text": [
      "axyb\n",
      "abyxb\n"
     ]
    }
   ],
   "source": [
    "s = input()\n",
    "t = input()"
   ]
  },
  {
   "cell_type": "code",
   "execution_count": 6,
   "metadata": {},
   "outputs": [
    {
     "name": "stdout",
     "output_type": "stream",
     "text": [
      "3\n",
      "b 4 5\n",
      "xb 2 4\n",
      "axb 1 1\n",
      "axb\n"
     ]
    }
   ],
   "source": [
    "dp = [[0]*(3001) for j in range(3001)]\n",
    "\n",
    "for i in range(len(s)):\n",
    "    for j in range(len(t)):\n",
    "        if s[i] == t[j]:\n",
    "            dp[i+1][j+1] = max(dp[i][j]+1,dp[i+1][j],dp[i][j+1])\n",
    "        else:\n",
    "            dp[i+1][j+1] = max(dp[i+1][j],dp[i][j+1])\n",
    "\n",
    "print(dp[len(s)][len(t)])\n",
    "\n",
    "res = \"\"\n",
    "s_len = len(s)\n",
    "t_len = len(t)\n",
    "#dp遷移を戻っていく\n",
    "while s_len > 0 and t_len > 0:\n",
    "    if dp[s_len][t_len] == dp[s_len-1][t_len]:\n",
    "        s_len -= 1\n",
    "    elif dp[s_len][t_len] == dp[s_len][t_len-1]:\n",
    "        t_len -= 1\n",
    "    else:\n",
    "        res = s[s_len-1] + res\n",
    "        print(res,s_len,t_len)\n",
    "        s_len -= 1\n",
    "        t_len -= 1\n",
    "print(res)        "
   ]
  }
 ],
 "metadata": {
  "kernelspec": {
   "display_name": "Python 3",
   "language": "python",
   "name": "python3"
  },
  "language_info": {
   "codemirror_mode": {
    "name": "ipython",
    "version": 3
   },
   "file_extension": ".py",
   "mimetype": "text/x-python",
   "name": "python",
   "nbconvert_exporter": "python",
   "pygments_lexer": "ipython3",
   "version": "3.7.4"
  }
 },
 "nbformat": 4,
 "nbformat_minor": 2
}
