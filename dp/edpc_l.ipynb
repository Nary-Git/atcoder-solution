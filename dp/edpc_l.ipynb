{
 "cells": [
  {
   "cell_type": "code",
   "execution_count": 2,
   "metadata": {},
   "outputs": [
    {
     "name": "stdout",
     "output_type": "stream",
     "text": [
      "4\n",
      "10 80 90 30\n"
     ]
    }
   ],
   "source": [
    "N = int(input())\n",
    "a = list(map(int,input().split()))"
   ]
  },
  {
   "cell_type": "code",
   "execution_count": 11,
   "metadata": {},
   "outputs": [
    {
     "name": "stdout",
     "output_type": "stream",
     "text": [
      "10\n"
     ]
    }
   ],
   "source": [
    "dp = [[0]*(N+1) for i in range(N+1)]\n",
    "#数列の長さ\n",
    "for w in range(1,N+1):\n",
    "    #左の位置\n",
    "    for l in range(N-w+1):\n",
    "        #右の位置\n",
    "        r = l + w\n",
    "        dpl = -dp[l+1][r] + a[l]\n",
    "        dpr = -dp[l][r-1] + a[r-1]\n",
    "        dp[l][r] = max(dpl,dpr)\n",
    "print(dp[0][N])"
   ]
  }
 ],
 "metadata": {
  "kernelspec": {
   "display_name": "Python 3",
   "language": "python",
   "name": "python3"
  },
  "language_info": {
   "codemirror_mode": {
    "name": "ipython",
    "version": 3
   },
   "file_extension": ".py",
   "mimetype": "text/x-python",
   "name": "python",
   "nbconvert_exporter": "python",
   "pygments_lexer": "ipython3",
   "version": "3.7.4"
  }
 },
 "nbformat": 4,
 "nbformat_minor": 2
}
