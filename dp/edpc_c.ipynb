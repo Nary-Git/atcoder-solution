{
 "cells": [
  {
   "cell_type": "code",
   "execution_count": 1,
   "metadata": {},
   "outputs": [
    {
     "name": "stdout",
     "output_type": "stream",
     "text": [
      "3\n",
      "10 40 70\n",
      "20 50 80\n",
      "30 60 90\n"
     ]
    }
   ],
   "source": [
    "N = int(input())\n",
    "a,b,c = [0]*N,[0]*N,[0]*N\n",
    "\n",
    "for i in range(N):\n",
    "    a[i],b[i],c[i] = map(int,input().split())"
   ]
  },
  {
   "cell_type": "code",
   "execution_count": 7,
   "metadata": {},
   "outputs": [
    {
     "name": "stdout",
     "output_type": "stream",
     "text": [
      "[[0, 0, 0], [0, 0, 0], [0, 0, 0]]\n",
      "210\n"
     ]
    }
   ],
   "source": [
    "#3パターンがN日\n",
    "dp = [[0]*3 for i in range(N)]\n",
    "#初期値は以下\n",
    "dp[0][0] = a[0]\n",
    "dp[0][1] = b[0]\n",
    "dp[0][2] = c[0]\n",
    "\n",
    "#二日目以降の操作(i日目に?操作した場合のdp)\n",
    "for i in range(1,N):\n",
    "    dp[i][0] = max(dp[i-1][1],dp[i-1][2]) + a[i]\n",
    "    dp[i][1] = max(dp[i-1][0],dp[i-1][2]) + b[i] \n",
    "    dp[i][2] = max(dp[i-1][0],dp[i-1][1]) + c[i] \n",
    "    \n",
    "print(max(dp[-1]))"
   ]
  }
 ],
 "metadata": {
  "kernelspec": {
   "display_name": "Python 3",
   "language": "python",
   "name": "python3"
  },
  "language_info": {
   "codemirror_mode": {
    "name": "ipython",
    "version": 3
   },
   "file_extension": ".py",
   "mimetype": "text/x-python",
   "name": "python",
   "nbconvert_exporter": "python",
   "pygments_lexer": "ipython3",
   "version": "3.7.4"
  }
 },
 "nbformat": 4,
 "nbformat_minor": 2
}
