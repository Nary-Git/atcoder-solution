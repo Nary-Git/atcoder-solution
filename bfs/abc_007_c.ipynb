{
 "cells": [
  {
   "cell_type": "code",
   "execution_count": null,
   "metadata": {},
   "outputs": [],
   "source": [
    "#ABC_007_C\n",
    "\n",
    "R,C=map(int,input().split())\n",
    "sy,sx=map(int,input().split())\n",
    "gy,gx=map(int,input().split())\n",
    "maze=[list(input()) for i in range(R)]\n",
    "sy-=1\n",
    "sx-=1\n",
    "gy-=1\n",
    "gx-=1\n",
    "\n",
    "from collections import deque\n",
    "\n",
    "todo = deque([[sy,sx]])\n",
    "seen = [[0]*C for i in range(R)]\n",
    "ans = 0\n",
    "\n",
    "while len(todo) > 0:\n",
    "    y,x = todo.popleft()\n",
    "    if y == gy and x == gx:\n",
    "        break\n",
    "    for i,j in ([1,0],[-1,0],[0,1],[0,-1]):\n",
    "        ny = y+i\n",
    "        nx = x+j\n",
    "        if nx >= 0 and ny >= 0 and maze[ny][nx] != '#' and seen[ny][nx] == 0:\n",
    "            todo.append([ny,nx])\n",
    "            seen[ny][nx] = seen[y][x] + 1\n",
    "print(seen[gy][gx])"
   ]
  }
 ],
 "metadata": {
  "kernelspec": {
   "display_name": "Python 3",
   "language": "python",
   "name": "python3"
  },
  "language_info": {
   "codemirror_mode": {
    "name": "ipython",
    "version": 3
   },
   "file_extension": ".py",
   "mimetype": "text/x-python",
   "name": "python",
   "nbconvert_exporter": "python",
   "pygments_lexer": "ipython3",
   "version": "3.6.5"
  }
 },
 "nbformat": 4,
 "nbformat_minor": 2
}
