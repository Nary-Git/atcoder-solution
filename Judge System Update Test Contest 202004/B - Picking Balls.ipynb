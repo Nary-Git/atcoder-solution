{
 "cells": [
  {
   "cell_type": "code",
   "execution_count": 35,
   "metadata": {},
   "outputs": [
    {
     "name": "stdout",
     "output_type": "stream",
     "text": [
      "4\n",
      "10 B\n",
      "6 R\n",
      "2 R\n",
      "4 B\n",
      "2\n",
      "6\n",
      "4\n",
      "10\n"
     ]
    }
   ],
   "source": [
    "N = int(input())\n",
    "red = []\n",
    "blue = []\n",
    "for i in range(N):\n",
    "    x,c = map(str,input().split())\n",
    "    if c == 'B':\n",
    "        blue.append(int(x))\n",
    "    else:\n",
    "        red.append(int(x))\n",
    "        \n",
    "blue.sort()\n",
    "red.sort()\n",
    "\n",
    "for i in red:\n",
    "    print(i)\n",
    "for i in blue:\n",
    "    print(i)"
   ]
  }
 ],
 "metadata": {
  "kernelspec": {
   "display_name": "Python 3",
   "language": "python",
   "name": "python3"
  },
  "language_info": {
   "codemirror_mode": {
    "name": "ipython",
    "version": 3
   },
   "file_extension": ".py",
   "mimetype": "text/x-python",
   "name": "python",
   "nbconvert_exporter": "python",
   "pygments_lexer": "ipython3",
   "version": "3.7.3"
  }
 },
 "nbformat": 4,
 "nbformat_minor": 2
}
