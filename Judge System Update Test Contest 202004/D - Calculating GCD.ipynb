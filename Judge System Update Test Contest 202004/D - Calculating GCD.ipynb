{
 "cells": [
  {
   "cell_type": "code",
   "execution_count": null,
   "metadata": {},
   "outputs": [],
   "source": [
    "N,Q = map(int,input().split())\n",
    "A = list(map(int,input().split()))\n",
    "S = list(map(int,input().split()))"
   ]
  },
  {
   "cell_type": "code",
   "execution_count": null,
   "metadata": {},
   "outputs": [],
   "source": [
    "import math\n",
    "\n",
    "for i in range(1,N):\n",
    "    A[i] = math.gcd(A[i],A[i-1])"
   ]
  },
  {
   "cell_type": "code",
   "execution_count": null,
   "metadata": {},
   "outputs": [],
   "source": [
    "for i in range(Q):\n",
    "    \n",
    "    ans = math.gcd(S[i],A[-1])\n",
    "    if ans != 1:\n",
    "        print(ans)\n",
    "        continue\n",
    "\n",
    "    l = -1\n",
    "    r = N\n",
    "    \n",
    "    while r-l > 1:\n",
    "        m = (r+l)//2\n",
    "        \n",
    "        if math.gcd(S[i],A[m]) == 1:\n",
    "            r = m\n",
    "        else:\n",
    "            l = m\n",
    "            \n",
    "    print(r+1)"
   ]
  }
 ],
 "metadata": {
  "kernelspec": {
   "display_name": "Python 3",
   "language": "python",
   "name": "python3"
  },
  "language_info": {
   "codemirror_mode": {
    "name": "ipython",
    "version": 3
   },
   "file_extension": ".py",
   "mimetype": "text/x-python",
   "name": "python",
   "nbconvert_exporter": "python",
   "pygments_lexer": "ipython3",
   "version": "3.7.3"
  }
 },
 "nbformat": 4,
 "nbformat_minor": 2
}
