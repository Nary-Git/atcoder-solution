{
 "cells": [
  {
   "cell_type": "code",
   "execution_count": 25,
   "metadata": {},
   "outputs": [
    {
     "name": "stdout",
     "output_type": "stream",
     "text": [
      "2 2 1\n"
     ]
    }
   ],
   "source": [
    "A, B, C = map(int, input().split())"
   ]
  },
  {
   "cell_type": "code",
   "execution_count": 27,
   "metadata": {},
   "outputs": [
    {
     "name": "stdout",
     "output_type": "stream",
     "text": [
      "5\n"
     ]
    }
   ],
   "source": [
    "def f(a, b, c):\n",
    "    if a > A or b > B or c > C:\n",
    "        return 0\n",
    "\n",
    "    if a < b or b < c:\n",
    "        return 0\n",
    "    \n",
    "    if a + b + c == tot:\n",
    "        return 1\n",
    "\n",
    "    ret = 0\n",
    "    ret += f(a + 1, b, c)\n",
    "    ret += f(a, b + 1, c)\n",
    "    ret += f(a, b, c + 1)\n",
    "    \n",
    "    return ret\n",
    " \n",
    "tot = A + B + C\n",
    "ans = f(0, 0, 0)\n",
    "print(ans)"
   ]
  }
 ],
 "metadata": {
  "kernelspec": {
   "display_name": "Python 3",
   "language": "python",
   "name": "python3"
  },
  "language_info": {
   "codemirror_mode": {
    "name": "ipython",
    "version": 3
   },
   "file_extension": ".py",
   "mimetype": "text/x-python",
   "name": "python",
   "nbconvert_exporter": "python",
   "pygments_lexer": "ipython3",
   "version": "3.7.3"
  }
 },
 "nbformat": 4,
 "nbformat_minor": 2
}
