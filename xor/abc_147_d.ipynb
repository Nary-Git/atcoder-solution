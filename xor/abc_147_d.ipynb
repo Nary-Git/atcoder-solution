{
 "cells": [
  {
   "cell_type": "code",
   "execution_count": 1,
   "metadata": {},
   "outputs": [
    {
     "name": "stdout",
     "output_type": "stream",
     "text": [
      "10\n",
      "3 1 4 1 5 9 2 6 5 3\n"
     ]
    }
   ],
   "source": [
    "N = int(input())\n",
    "A = list(map(int,input().split()))"
   ]
  },
  {
   "cell_type": "code",
   "execution_count": 2,
   "metadata": {
    "scrolled": true
   },
   "outputs": [
    {
     "name": "stdout",
     "output_type": "stream",
     "text": [
      "0b11\n",
      "0b1\n",
      "0b100\n",
      "0b1\n",
      "0b101\n",
      "0b1001\n",
      "0b10\n",
      "0b110\n",
      "0b101\n",
      "0b11\n",
      "237\n"
     ]
    }
   ],
   "source": [
    "nonzero = [0]*60\n",
    "\n",
    "for i in range(N):\n",
    "    for j in range(60):\n",
    "        tmp = (A[i] >> j) & 1\n",
    "        if tmp != 0:\n",
    "            nonzero[j] += 1\n",
    "\n",
    "ans = 0\n",
    "MOD = 10**9+7\n",
    "\n",
    "for i in range(60):\n",
    "    ans += ((N-nonzero[i])*nonzero[i]*(2**i))%MOD\n",
    "    \n",
    "print(ans%MOD)\n",
    "    "
   ]
  }
 ],
 "metadata": {
  "kernelspec": {
   "display_name": "Python 3",
   "language": "python",
   "name": "python3"
  },
  "language_info": {
   "codemirror_mode": {
    "name": "ipython",
    "version": 3
   },
   "file_extension": ".py",
   "mimetype": "text/x-python",
   "name": "python",
   "nbconvert_exporter": "python",
   "pygments_lexer": "ipython3",
   "version": "3.7.3"
  }
 },
 "nbformat": 4,
 "nbformat_minor": 2
}
