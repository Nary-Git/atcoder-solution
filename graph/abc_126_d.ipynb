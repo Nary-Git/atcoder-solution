{
 "cells": [
  {
   "cell_type": "code",
   "execution_count": 29,
   "metadata": {
    "scrolled": true
   },
   "outputs": [
    {
     "name": "stdout",
     "output_type": "stream",
     "text": [
      "3\n",
      "1 2 2\n",
      "2 3 1\n"
     ]
    }
   ],
   "source": [
    "N = int(input())\n",
    "uvw = [list(map(int,input().split())) for i in range(N-1)]\n",
    "\n",
    "graph = [[] for _ in range(N+1)]\n",
    "for u,v,w in uvw:\n",
    "    graph[u].append((v,w))\n",
    "    graph[v].append((u,w))\n",
    "\n",
    "ans = [0] * (N+1)\n",
    "\n",
    "from collections import deque\n",
    "todo = deque([(1,0)])\n",
    "seen = [-1] * (N+1)\n",
    "\n",
    "while todo:\n",
    "    v,d = todo.pop()\n",
    "    seen[v] = 0\n",
    "    if d % 2 == 0:\n",
    "        ans[v] = 0\n",
    "    else:\n",
    "        ans[v] = 1\n",
    "    for u,w in graph[v]:\n",
    "        if seen[u]== 0:\n",
    "            continue\n",
    "        todo.append((u,d+w))\n",
    "\n",
    "for i in range(1,N+1):\n",
    "    print(ans[i])"
   ]
  },
  {
   "cell_type": "code",
   "execution_count": 27,
   "metadata": {},
   "outputs": [
    {
     "name": "stdout",
     "output_type": "stream",
     "text": [
      "[[], [(2, 0)], [(1, 0), (3, 1)], [(2, 1)]]\n",
      "2\n"
     ]
    }
   ],
   "source": [
    "print(graph)\n",
    "print(graph[1][0][0])"
   ]
  }
 ],
 "metadata": {
  "kernelspec": {
   "display_name": "Python 3",
   "language": "python",
   "name": "python3"
  },
  "language_info": {
   "codemirror_mode": {
    "name": "ipython",
    "version": 3
   },
   "file_extension": ".py",
   "mimetype": "text/x-python",
   "name": "python",
   "nbconvert_exporter": "python",
   "pygments_lexer": "ipython3",
   "version": "3.6.5"
  }
 },
 "nbformat": 4,
 "nbformat_minor": 2
}
