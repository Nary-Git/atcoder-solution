{
 "cells": [
  {
   "cell_type": "code",
   "execution_count": 14,
   "metadata": {},
   "outputs": [
    {
     "name": "stdout",
     "output_type": "stream",
     "text": [
      "8\n",
      "1 2\n",
      "2 3\n",
      "2 4\n",
      "2 5\n",
      "4 7\n",
      "5 6\n",
      "6 8\n",
      "4\n",
      "1\n",
      "2\n",
      "3\n",
      "4\n",
      "1\n",
      "1\n",
      "2\n"
     ]
    }
   ],
   "source": [
    "N = int(input())\n",
    "ab = [list(map(int,input().split())) for i in range(N-1)]\n",
    "\n",
    "graph = [[] for _ in range(N+1)]\n",
    "for a,b in ab:\n",
    "    graph[a].append(b)\n",
    "    graph[b].append(a)\n",
    "\n",
    "from collections import deque\n",
    "todo = deque([1])\n",
    "seen = deque([])\n",
    "parent = [0] * (N+1)\n",
    "\n",
    "while todo:\n",
    "    x = todo.popleft()\n",
    "    seen.append(x)\n",
    "    for y in graph[x]:\n",
    "        if y == parent[x]:\n",
    "            continue\n",
    "        parent[y] = x\n",
    "        todo.append(y)\n",
    "        \n",
    "# 根以外の頂点は、唯一の親を持つことから、\n",
    "# vの親がpであるとき → color[v] に辺 pvの色を持たせると定めて色を管理\n",
    "color = [-1] * (N+1)\n",
    "for x in seen:\n",
    "    ng = color[x]\n",
    "    c = 1\n",
    "    for y in graph[x]:\n",
    "        if y == parent[x]:\n",
    "            continue\n",
    "        if c == ng:\n",
    "            c += 1\n",
    "        color[y] = c\n",
    "        c += 1\n",
    "\n",
    "ans = []\n",
    "for a,b in ab:\n",
    "    ans.append(color[b])\n",
    "\n",
    "print(max(ans))\n",
    "for i in ans:\n",
    "    print(i)"
   ]
  },
  {
   "cell_type": "code",
   "execution_count": 1,
   "metadata": {},
   "outputs": [
    {
     "name": "stdout",
     "output_type": "stream",
     "text": [
      "8\n",
      "1 2\n",
      "2 3\n",
      "2 4\n",
      "2 5\n",
      "4 7\n",
      "5 6\n",
      "6 8\n"
     ]
    }
   ],
   "source": [
    "N = int(input())\n",
    "ab = [list(map(int,input().split())) for i in range(N-1)]"
   ]
  },
  {
   "cell_type": "code",
   "execution_count": 2,
   "metadata": {},
   "outputs": [
    {
     "name": "stdout",
     "output_type": "stream",
     "text": [
      "[[], [2], [1, 3, 4, 5], [2], [2, 7], [2, 6], [5, 8], [4], [6]]\n"
     ]
    }
   ],
   "source": [
    "graph = [[] for _ in range(N+1)]\n",
    "for a,b in ab:\n",
    "    graph[a].append(b)\n",
    "    graph[b].append(a)\n",
    "print(graph)"
   ]
  },
  {
   "cell_type": "code",
   "execution_count": 9,
   "metadata": {},
   "outputs": [],
   "source": [
    "from collections import deque\n",
    "todo = deque([1])\n",
    "seen = deque([])\n",
    "parent = [0] * (N+1)\n",
    "\n",
    "while todo:\n",
    "    x = todo.popleft()\n",
    "    seen.append(x)\n",
    "    for y in graph[x]:\n",
    "        if y == parent[x]:\n",
    "            continue\n",
    "        parent[y] = x\n",
    "        todo.append(y)"
   ]
  },
  {
   "cell_type": "code",
   "execution_count": 10,
   "metadata": {},
   "outputs": [
    {
     "name": "stdout",
     "output_type": "stream",
     "text": [
      "deque([1, 2, 3, 4, 5, 7, 6, 8])\n",
      "[0, 0, 1, 2, 2, 2, 5, 4, 6]\n"
     ]
    }
   ],
   "source": [
    "print(seen)\n",
    "print(parent)"
   ]
  },
  {
   "cell_type": "code",
   "execution_count": 12,
   "metadata": {},
   "outputs": [
    {
     "name": "stdout",
     "output_type": "stream",
     "text": [
      "[-1, -1, 1, 2, 3, 4, 1, 1, 2]\n",
      "4\n",
      "1\n",
      "2\n",
      "3\n",
      "4\n",
      "1\n",
      "1\n",
      "2\n"
     ]
    }
   ],
   "source": [
    "# 根以外の頂点は、唯一の親を持つことから、\n",
    "# vの親がpであるとき → color[v] に辺 pvの色を持たせると定めて色を管理\n",
    "color = [-1] * (N+1)\n",
    "for x in seen:\n",
    "    ng = color[x]\n",
    "    c = 1\n",
    "    for y in graph[x]:\n",
    "        if y == parent[x]:\n",
    "            continue\n",
    "        if c == ng:\n",
    "            c += 1\n",
    "        color[y] = c\n",
    "        c += 1\n",
    "\n",
    "print(max(color))\n",
    "for i in range(2,N+1):\n",
    "    print(color[i])"
   ]
  },
  {
   "cell_type": "code",
   "execution_count": null,
   "metadata": {},
   "outputs": [],
   "source": [
    "# maspyの解答\n",
    "\n",
    "import sys\n",
    "read = sys.stdin.buffer.read\n",
    "readline = sys.stdin.buffer.readline\n",
    "readlines = sys.stdin.buffer.readlines\n",
    " \n",
    "N = int(readline())\n",
    "m = map(int,read().split())\n",
    "AB = list(zip(m,m))\n",
    " \n",
    "graph = [[] for _ in range(N+1)]\n",
    "for a,b in AB:\n",
    "    graph[a].append(b)\n",
    "    graph[b].append(a)\n",
    " \n",
    "root = 1\n",
    "parent = [0] * (N+1)\n",
    "order = []\n",
    "stack = [root]\n",
    "while stack:\n",
    "    x = stack.pop()\n",
    "    order.append(x)\n",
    "    for y in graph[x]:\n",
    "        if y == parent[x]:\n",
    "            continue\n",
    "        parent[y] = x\n",
    "        stack.append(y)\n",
    " \n",
    "color = [-1] * (N+1)\n",
    "for x in order:\n",
    "    ng = color[x]\n",
    "    c = 1\n",
    "    for y in graph[x]:\n",
    "        if y == parent[x]:\n",
    "            continue\n",
    "        if c == ng:\n",
    "            c += 1\n",
    "        color[y] = c\n",
    "        c += 1\n",
    " \n",
    "answer = []\n",
    "append = answer.append\n",
    "for a,b in AB:\n",
    "    if parent[a] == b:\n",
    "        append(color[a])\n",
    "    else:\n",
    "        append(color[b])\n",
    " \n",
    "K = max(answer)\n",
    "print(K)\n",
    "print('\\n'.join(map(str,answer)))"
   ]
  }
 ],
 "metadata": {
  "kernelspec": {
   "display_name": "Python 3",
   "language": "python",
   "name": "python3"
  },
  "language_info": {
   "codemirror_mode": {
    "name": "ipython",
    "version": 3
   },
   "file_extension": ".py",
   "mimetype": "text/x-python",
   "name": "python",
   "nbconvert_exporter": "python",
   "pygments_lexer": "ipython3",
   "version": "3.6.5"
  }
 },
 "nbformat": 4,
 "nbformat_minor": 2
}
