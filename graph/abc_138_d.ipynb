{
 "cells": [
  {
   "cell_type": "code",
   "execution_count": null,
   "metadata": {},
   "outputs": [],
   "source": [
    "N,Q = map(int,input().split())\n",
    "ab = [list(map(int,input().split())) for i in range(N-1)]\n",
    "px = [list(map(int,input().split())) for i in range(Q)]\n",
    "\n",
    "graph = [[] for _ in range(N+1)]\n",
    "for a,b in ab:\n",
    "    graph[a].append(b)\n",
    "    graph[b].append(a)\n",
    "\n",
    "value = [0] * (N+1)\n",
    "for p,x in px:\n",
    "    value[p] += x\n",
    "\n",
    "from collections import deque\n",
    "todo = deque([(1,0)])\n",
    "while len(todo) > 0:\n",
    "    x,parent = todo.pop()\n",
    "    value[x] += value[parent]\n",
    "    for y in graph[x]:\n",
    "        if y == parent:\n",
    "            continue\n",
    "        todo.append((y,x))\n",
    "\n",
    "answer = ' '.join(map(str,value[1:]))\n",
    "print(answer)"
   ]
  },
  {
   "cell_type": "code",
   "execution_count": null,
   "metadata": {},
   "outputs": [],
   "source": [
    "## TLEコード\n",
    "\n",
    "\n",
    "N,Q = map(int,input().split())\n",
    "ab = [list(map(int,input().split())) for i in range(N-1)]\n",
    "px = [list(map(int,input().split())) for i in range(Q)]\n",
    "\n",
    "# このグラフ構造は遅くなるっぽい\n",
    "graph={}\n",
    "for i in range(1,N+1):\n",
    "    graph[i]=[]\n",
    "for i in range(N-1):\n",
    "    graph[ab[i][0]].append(ab[i][1])\n",
    "    graph[ab[i][1]].append(ab[i][0])\n",
    "\n",
    "value = [0] * (N+1)\n",
    "for p,x in px:\n",
    "    value[p] += x\n",
    "\n",
    "# dfsのdeque内の値をリストで扱うと遅い（tupleにすると良い）\n",
    "from collections import deque\n",
    "todo = deque([[1,0]])\n",
    "while len(todo) > 0:\n",
    "    x,parent = todo.pop()\n",
    "    value[x] += value[parent]\n",
    "    for y in graph[x]:\n",
    "        if y == parent:\n",
    "            continue\n",
    "        todo.append([y,x])\n",
    "\n",
    "# この出力方法も遅いっぽい\n",
    "print(*value[1:])"
   ]
  },
  {
   "cell_type": "code",
   "execution_count": 5,
   "metadata": {},
   "outputs": [
    {
     "name": "stdout",
     "output_type": "stream",
     "text": [
      "4 3\n",
      "1 2\n",
      "2 3\n",
      "2 4\n",
      "2 10\n",
      "1 100\n",
      "3 1\n"
     ]
    }
   ],
   "source": [
    "N,Q = map(int,input().split())\n",
    "ab = [list(map(int,input().split())) for i in range(N-1)]\n",
    "px = [list(map(int,input().split())) for i in range(Q)]"
   ]
  },
  {
   "cell_type": "code",
   "execution_count": 7,
   "metadata": {},
   "outputs": [
    {
     "name": "stdout",
     "output_type": "stream",
     "text": [
      "{1: [2], 2: [1, 3, 4], 3: [2], 4: [2]}\n"
     ]
    }
   ],
   "source": [
    "graph={}\n",
    "for i in range(1,N+1):\n",
    "    graph[i]=[]\n",
    "for i in range(N-1):\n",
    "    graph[ab[i][0]].append(ab[i][1])\n",
    "    graph[ab[i][1]].append(ab[i][0])\n",
    "print(graph)"
   ]
  },
  {
   "cell_type": "code",
   "execution_count": 9,
   "metadata": {},
   "outputs": [
    {
     "name": "stdout",
     "output_type": "stream",
     "text": [
      "[0, 100, 10, 1, 0]\n"
     ]
    }
   ],
   "source": [
    "value = [0] * (N+1)\n",
    "for p,x in px:\n",
    "    value[p] += x\n",
    "print(value)"
   ]
  },
  {
   "cell_type": "code",
   "execution_count": 10,
   "metadata": {},
   "outputs": [
    {
     "name": "stdout",
     "output_type": "stream",
     "text": [
      "100 110 111 110\n"
     ]
    }
   ],
   "source": [
    "from collections import deque\n",
    "todo = deque([[1,0]])\n",
    "while len(todo) > 0:\n",
    "    x,parent = todo.pop()\n",
    "    value[x] += value[parent]\n",
    "    for y in graph[x]:\n",
    "        if y == parent:\n",
    "            continue\n",
    "        todo.append([y,x])\n",
    "print(*value[1:])"
   ]
  },
  {
   "cell_type": "code",
   "execution_count": 3,
   "metadata": {},
   "outputs": [
    {
     "name": "stdout",
     "output_type": "stream",
     "text": [
      "4 3\n",
      "1 2\n",
      "2 3\n",
      "2 4\n",
      "2 10\n",
      "1 100\n",
      "3 1\n",
      "100 110 111 110\n"
     ]
    }
   ],
   "source": [
    "## maspyの解答\n",
    "\n",
    "\n",
    "import sys\n",
    "input = sys.stdin.readline\n",
    "sys.setrecursionlimit(10 ** 7)\n",
    " \n",
    "# 遅延評価で加えてあげるだけ\n",
    " \n",
    "N,Q = map(int,input().split())\n",
    "ab = [[int(x) for x in input().split()] for _ in range(N-1)]\n",
    "px = [[int(x) for x in input().split()] for _ in range(Q)]\n",
    "\n",
    "graph = [[] for _ in range(N+1)]\n",
    "for a,b in ab:\n",
    "    graph[a].append(b)\n",
    "    graph[b].append(a)\n",
    " \n",
    "value = [0] * (N+1)\n",
    "for p,x in px:\n",
    "    value[p] += x\n",
    "    \n",
    "q = [(1,0)]\n",
    "while q:\n",
    "    x,parent = q.pop()\n",
    "    value[x] += value[parent]\n",
    "    for y in graph[x]:\n",
    "        if y == parent:\n",
    "            continue\n",
    "        q.append((y,x))\n",
    " \n",
    "answer = ' '.join(map(str,value[1:]))\n",
    "print(answer)"
   ]
  },
  {
   "cell_type": "code",
   "execution_count": 4,
   "metadata": {},
   "outputs": [
    {
     "name": "stdout",
     "output_type": "stream",
     "text": [
      "[[], [2], [1, 3, 4], [2], [2]]\n"
     ]
    }
   ],
   "source": [
    "print(graph)"
   ]
  },
  {
   "cell_type": "code",
   "execution_count": 8,
   "metadata": {},
   "outputs": [
    {
     "name": "stdout",
     "output_type": "stream",
     "text": [
      "[0, 100, 110, 111, 110]\n"
     ]
    }
   ],
   "source": [
    "print(value)"
   ]
  }
 ],
 "metadata": {
  "kernelspec": {
   "display_name": "Python 3",
   "language": "python",
   "name": "python3"
  },
  "language_info": {
   "codemirror_mode": {
    "name": "ipython",
    "version": 3
   },
   "file_extension": ".py",
   "mimetype": "text/x-python",
   "name": "python",
   "nbconvert_exporter": "python",
   "pygments_lexer": "ipython3",
   "version": "3.6.5"
  }
 },
 "nbformat": 4,
 "nbformat_minor": 2
}
