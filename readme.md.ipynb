{
 "cells": [
  {
   "cell_type": "markdown",
   "metadata": {},
   "source": [
    "探索スタート地点を「探索候補スタック」に積む\n",
    "while スタックが空っぽになるまで\n",
    "    スタックから次の探索地点を1つ取り出す（pop）\n",
    "    「探索済みリスト」に取り出した地点を格納（ここが現在地点）\n",
    "　　現在地点から、次に行こうと思えば行けるポイントを全部探し出す\n",
    "    for 地点 in 次に行こうと思えば行けるポイント\n",
    "        if その地点は既に「探索済みリスト」にある？\n",
    "            探索済みなので「探索候補スタック」には入れない（continue）\n",
    "        if その地点は既に「探索候補スタック」にある？（閉路があるなら可能性あり、木なら可能性なし）\n",
    "            探索予定なので「探索候補スタック」には入れない（continue）\n",
    "        未探索かつ候補にも入っていない地点なので「探索候補スタック」に追加する（append）\n",
    "print 探索済み地点\n",
    "\n",
    "※BFS を組む場合はpop を pop(0) もしくは popleft（collections.deque の場合）に読み替えてください"
   ]
  }
 ],
 "metadata": {
  "kernelspec": {
   "display_name": "Python 3",
   "language": "python",
   "name": "python3"
  },
  "language_info": {
   "codemirror_mode": {
    "name": "ipython",
    "version": 3
   },
   "file_extension": ".py",
   "mimetype": "text/x-python",
   "name": "python",
   "nbconvert_exporter": "python",
   "pygments_lexer": "ipython3",
   "version": "3.6.5"
  }
 },
 "nbformat": 4,
 "nbformat_minor": 2
}
