{
 "cells": [
  {
   "cell_type": "code",
   "execution_count": null,
   "metadata": {},
   "outputs": [],
   "source": [
    "N,M,K = map(int,input().split())\n",
    "AB = [list(map(int,input().split())) for i in range(M)]\n",
    "CD = [list(map(int,input().split())) for i in range(K)]\n",
    "\n",
    "class UnionFind():\n",
    "    def __init__(self, n):\n",
    "        self.n = n\n",
    "        self.parents = [-1] * n\n",
    "    def find(self, x):\n",
    "        if self.parents[x] < 0:\n",
    "            return x\n",
    "        else:\n",
    "            self.parents[x] = self.find(self.parents[x])\n",
    "            return self.parents[x]\n",
    "    def union(self, x, y):\n",
    "        x = self.find(x)\n",
    "        y = self.find(y)\n",
    "        if x == y:\n",
    "            return\n",
    "        if self.parents[x] > self.parents[y]:\n",
    "            x, y = y, x\n",
    "        self.parents[x] += self.parents[y]\n",
    "        self.parents[y] = x\n",
    "    def size(self, x):\n",
    "        return -self.parents[self.find(x)]\n",
    "    def same(self, x, y):\n",
    "        return self.find(x) == self.find(y)\n",
    "    def members(self, x):\n",
    "        root = self.find(x)\n",
    "        return [i for i in range(self.n) if self.find(i) == root]\n",
    "    def roots(self):\n",
    "        return [i for i, x in enumerate(self.parents) if x < 0]\n",
    "    def group_count(self):\n",
    "        return len(self.roots())\n",
    "    def all_group_members(self):\n",
    "        return {r: self.members(r) for r in self.roots()}\n",
    "    def __str__(self):\n",
    "        return '\\n'.join('{}: {}'.format(r, self.members(r)) for r in self.roots())\n",
    "\n",
    "uf = UnionFind(N)\n",
    "for i in range(M):\n",
    "    uf.union(AB[i][0]-1,AB[i][1]-1)\n",
    "pot = [uf.size(i)-1 for i in range(N)]\n",
    "for i in range(M):\n",
    "    A,B = AB[i][0],AB[i][1]\n",
    "    if uf.find(A-1) == uf.find(B-1):\n",
    "        pot[A-1] -= 1\n",
    "        pot[B-1] -= 1\n",
    "    else:\n",
    "        print(A-1,B-1)\n",
    "for i in range(K):\n",
    "    C,D = CD[i][0],CD[i][1]\n",
    "    if uf.find(C-1) == uf.find(D-1):\n",
    "        pot[C-1] -= 1\n",
    "        pot[D-1] -= 1\n",
    "print(*pot)"
   ]
  }
 ],
 "metadata": {
  "kernelspec": {
   "display_name": "Python 3",
   "language": "python",
   "name": "python3"
  },
  "language_info": {
   "codemirror_mode": {
    "name": "ipython",
    "version": 3
   },
   "file_extension": ".py",
   "mimetype": "text/x-python",
   "name": "python",
   "nbconvert_exporter": "python",
   "pygments_lexer": "ipython3",
   "version": "3.6.5"
  }
 },
 "nbformat": 4,
 "nbformat_minor": 2
}
