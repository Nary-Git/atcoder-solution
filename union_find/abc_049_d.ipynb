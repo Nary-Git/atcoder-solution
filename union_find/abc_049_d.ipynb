{
 "cells": [
  {
   "cell_type": "code",
   "execution_count": null,
   "metadata": {},
   "outputs": [],
   "source": [
    "class UnionFind():\n",
    "    def __init__(self, n):\n",
    "        self.n = n\n",
    "        self.parents = [-1] * n\n",
    "    def find(self, x):\n",
    "        if self.parents[x] < 0:\n",
    "            return x\n",
    "        else:\n",
    "            self.parents[x] = self.find(self.parents[x])\n",
    "            return self.parents[x]\n",
    "    def union(self, x, y):\n",
    "        x = self.find(x)\n",
    "        y = self.find(y)\n",
    "        if x == y:\n",
    "            return\n",
    "        if self.parents[x] > self.parents[y]:\n",
    "            x, y = y, x\n",
    "        self.parents[x] += self.parents[y]\n",
    "        self.parents[y] = x\n",
    "    def size(self, x):\n",
    "        return -self.parents[self.find(x)]\n",
    "    def same(self, x, y):\n",
    "        return self.find(x) == self.find(y)\n",
    "    def members(self, x):\n",
    "        root = self.find(x)\n",
    "        return [i for i in range(self.n) if self.find(i) == root]\n",
    "    def roots(self):\n",
    "        return [i for i, x in enumerate(self.parents) if x < 0]\n",
    "    def group_count(self):\n",
    "        return len(self.roots())\n",
    "    def all_group_members(self):\n",
    "        return {r: self.members(r) for r in self.roots()}\n",
    "    def __str__(self):\n",
    "        return '\\n'.join('{}: {}'.format(r, self.members(r)) for r in self.roots())\n",
    "\n",
    "N,K,L=list(map(int,input().split()))\n",
    "pq=[list(map(int,input().split())) for i in range(K)]\n",
    "rs=[list(map(int,input().split())) for i in range(L)]\n",
    "\n",
    "uf_road = UnionFind(N)\n",
    "uf_train = UnionFind(N)\n",
    "\n",
    "for i in range(K):\n",
    "    uf_road.union(pq[i][0]-1,pq[i][1]-1)\n",
    "for i in range(L):\n",
    "    uf_train.union(rs[i][0]-1,rs[i][1]-1)\n",
    "\n",
    "# 各都市に連結しているroadとtrainの積集合の探索はTLE\n",
    "# ans = []\n",
    "# for i in range(N):\n",
    "#   ans.append(len(set(uf_road.members(i)) & set(uf_train.members(i))))\n",
    "# print(*ans)\n",
    "\n",
    "# road,trainの根のペアで同じペアを持つ都市は連結している\n",
    "from collections import Counter\n",
    "pair = [(uf_road.find(i), uf_train.find(i)) for i in range(N)]\n",
    "ans = Counter(pair)\n",
    "print(*[ans[i] for i in pair])"
   ]
  },
  {
   "cell_type": "code",
   "execution_count": 1,
   "metadata": {},
   "outputs": [
    {
     "name": "stdout",
     "output_type": "stream",
     "text": [
      "4 2 2\n",
      "1 2\n",
      "2 3\n",
      "1 4\n",
      "2 3\n",
      "1 2 2 1\n"
     ]
    }
   ],
   "source": [
    "# 毎回.count使ったらTLE\n",
    "ans = []\n",
    "pair = [(uf_road.find(i), uf_train.find(i)) for i in range(N)]\n",
    "for i in range(N):\n",
    "    ans.append(pair.count(pair[i]))\n",
    "print(*ans)"
   ]
  },
  {
   "cell_type": "code",
   "execution_count": 35,
   "metadata": {},
   "outputs": [
    {
     "name": "stdout",
     "output_type": "stream",
     "text": [
      "[(0, 0), (0, 1), (0, 1), (3, 0)]\n",
      "Counter({(0, 1): 2, (0, 0): 1, (3, 0): 1})\n"
     ]
    }
   ],
   "source": [
    "print(pair)\n",
    "print(ans)"
   ]
  }
 ],
 "metadata": {
  "kernelspec": {
   "display_name": "Python 3",
   "language": "python",
   "name": "python3"
  },
  "language_info": {
   "codemirror_mode": {
    "name": "ipython",
    "version": 3
   },
   "file_extension": ".py",
   "mimetype": "text/x-python",
   "name": "python",
   "nbconvert_exporter": "python",
   "pygments_lexer": "ipython3",
   "version": "3.6.5"
  }
 },
 "nbformat": 4,
 "nbformat_minor": 2
}
