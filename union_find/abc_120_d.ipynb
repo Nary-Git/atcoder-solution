{
 "cells": [
  {
   "cell_type": "code",
   "execution_count": 1,
   "metadata": {},
   "outputs": [],
   "source": [
    "class UnionFind():\n",
    "    def __init__(self, n):\n",
    "        self.n = n\n",
    "        self.parents = [-1] * n\n",
    "    def find(self, x):\n",
    "        if self.parents[x] < 0:\n",
    "            return x\n",
    "        else:\n",
    "            self.parents[x] = self.find(self.parents[x])\n",
    "            return self.parents[x]\n",
    "    def union(self, x, y):\n",
    "        x = self.find(x)\n",
    "        y = self.find(y)\n",
    "        if x == y:\n",
    "            return\n",
    "        if self.parents[x] > self.parents[y]:\n",
    "            x, y = y, x\n",
    "        self.parents[x] += self.parents[y]\n",
    "        self.parents[y] = x\n",
    "    def size(self, x):\n",
    "        return -self.parents[self.find(x)]\n",
    "    def same(self, x, y):\n",
    "        return self.find(x) == self.find(y)\n",
    "    def members(self, x):\n",
    "        root = self.find(x)\n",
    "        return [i for i in range(self.n) if self.find(i) == root]\n",
    "    def roots(self):\n",
    "        return [i for i, x in enumerate(self.parents) if x < 0]\n",
    "    def group_count(self):\n",
    "        return len(self.roots())\n",
    "    def all_group_members(self):\n",
    "        return {r: self.members(r) for r in self.roots()}\n",
    "    def __str__(self):\n",
    "        return '\\n'.join('{}: {}'.format(r, self.members(r)) for r in self.roots())\n",
    "\n",
    "N,M=map(int,input().split())\n",
    "AB=[list(map(int,input().split())) for i in range(M)]\n",
    "\n",
    "AB = AB[::-1]\n",
    "\n",
    "cnt = N*(N-1)//2\n",
    "ans = [0]*M\n",
    "uf = UnionFind(N)\n",
    "for i in range(M):\n",
    "    ans[i] = cnt\n",
    "    A = AB[i][0]-1\n",
    "    B = AB[i][1]-1\n",
    "    if uf.same(A,B):\n",
    "        continue\n",
    "    else:\n",
    "        cnt -= uf.size(A) * uf.size(B) # 解消される不便さ\n",
    "        uf.union(A,B)\n",
    "print(*ans[::-1])"
   ]
  }
 ],
 "metadata": {
  "kernelspec": {
   "display_name": "Python 3",
   "language": "python",
   "name": "python3"
  },
  "language_info": {
   "codemirror_mode": {
    "name": "ipython",
    "version": 3
   },
   "file_extension": ".py",
   "mimetype": "text/x-python",
   "name": "python",
   "nbconvert_exporter": "python",
   "pygments_lexer": "ipython3",
   "version": "3.6.5"
  }
 },
 "nbformat": 4,
 "nbformat_minor": 2
}
