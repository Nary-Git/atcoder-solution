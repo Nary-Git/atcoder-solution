{
 "cells": [
  {
   "cell_type": "markdown",
   "metadata": {},
   "source": [
    "# abc_143_d\n",
    "https://atcoder.jp/contests/abc143/tasks/abc143_d"
   ]
  },
  {
   "cell_type": "markdown",
   "metadata": {},
   "source": [
    "## 解法1"
   ]
  },
  {
   "cell_type": "code",
   "execution_count": null,
   "metadata": {},
   "outputs": [],
   "source": [
    "N=int(input())\n",
    "L_list = list(map(int,input().split()))"
   ]
  },
  {
   "cell_type": "code",
   "execution_count": null,
   "metadata": {},
   "outputs": [],
   "source": [
    "def binary_search_left(list,target):\n",
    "    '''\n",
    "    配列に対してある数nを配列のソート順を崩さないように挿入するためのindexを返す関数。\n",
    "    同一の数が配列に複数含まれていた場合は最も小さいindexを返す。\n",
    "    '''\n",
    "    result = -1\n",
    "    left = 0\n",
    "    right = len(list) - 1\n",
    "\n",
    "    while left <= right:\n",
    "        center = (left + right)//2\n",
    "        if list[center] == target:          # 一致した場合\n",
    "            if list[center - 1] == target:  # -> その一つ前も一致した場合、rightをcenterにしてもう一周\n",
    "                right = center\n",
    "            else:                           # -> その一つ前は一致しない場合、一番左で一致したということでcenterを返す\n",
    "                return center\n",
    "        elif list[center] < target:\n",
    "            left = center + 1\n",
    "        elif list[center] > target:\n",
    "            right = center - 1\n",
    "    return left                             # 一致したらcenterを返すが（上記）、なければleftのインデックスを返す"
   ]
  },
  {
   "cell_type": "code",
   "execution_count": null,
   "metadata": {},
   "outputs": [],
   "source": [
    "L_list = sorted(L_list)\n",
    "\n",
    "ans = 0\n",
    "for a_index in range(0, N):\n",
    "    for b_index in range(a_index+1, N):\n",
    "        a = L_list[a_index]\n",
    "        b = L_list[b_index]\n",
    "        c_right_index = binary_search_left(L_list, a+b)\n",
    "        if c_right_index > b_index:\n",
    "            ans += c_right_index - b_index - 1\n",
    "        else:\n",
    "            pass\n",
    "\n",
    "print(ans)"
   ]
  },
  {
   "cell_type": "markdown",
   "metadata": {},
   "source": [
    "# 解法2"
   ]
  },
  {
   "cell_type": "code",
   "execution_count": null,
   "metadata": {},
   "outputs": [],
   "source": [
    "N=int(input())\n",
    "L_list = list(map(int,input().split()))"
   ]
  },
  {
   "cell_type": "code",
   "execution_count": null,
   "metadata": {},
   "outputs": [],
   "source": [
    "import bisect"
   ]
  },
  {
   "cell_type": "code",
   "execution_count": null,
   "metadata": {},
   "outputs": [],
   "source": [
    "L_list = sorted(L_list)\n",
    "\n",
    "ans = 0\n",
    "for a_index in range(0, N):\n",
    "    for b_index in range(a_index+1, N):\n",
    "        a = L_list[a_index]\n",
    "        b = L_list[b_index]\n",
    "        c_right_index = bisect.bisect_left(L_list, a+b)\n",
    "        if c_right_index > b_index:\n",
    "            ans += c_right_index - b_index - 1\n",
    "        else:\n",
    "            pass\n",
    "\n",
    "print(ans)"
   ]
  }
 ],
 "metadata": {
  "kernelspec": {
   "display_name": "Python 3",
   "language": "python",
   "name": "python3"
  },
  "language_info": {
   "codemirror_mode": {
    "name": "ipython",
    "version": 3
   },
   "file_extension": ".py",
   "mimetype": "text/x-python",
   "name": "python",
   "nbconvert_exporter": "python",
   "pygments_lexer": "ipython3",
   "version": "3.6.4"
  }
 },
 "nbformat": 4,
 "nbformat_minor": 2
}
