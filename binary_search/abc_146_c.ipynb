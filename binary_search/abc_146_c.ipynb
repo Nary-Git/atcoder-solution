{
 "cells": [
  {
   "cell_type": "markdown",
   "metadata": {},
   "source": [
    "# ABC146_C"
   ]
  },
  {
   "cell_type": "code",
   "execution_count": null,
   "metadata": {},
   "outputs": [],
   "source": [
    "a,b, x = map(int,input().split())"
   ]
  },
  {
   "cell_type": "code",
   "execution_count": null,
   "metadata": {},
   "outputs": [],
   "source": [
    "def calc_price(n):\n",
    "    return a * n + b * len(str(n))\n",
    "\n",
    "left = 1\n",
    "right = 10 ** 9\n",
    "\n",
    "while left <= right:\n",
    "    center = (left + right)//2\n",
    "    if calc_price(center) == x:\n",
    "        if calc_price(center + 1) == x:\n",
    "            left = center\n",
    "        else:\n",
    "            break\n",
    "    elif calc_price(center) < x:\n",
    "        left = center + 1\n",
    "    elif calc_price(center) > x:\n",
    "        right = center - 1\n",
    "\n",
    "print(right)"
   ]
  }
 ],
 "metadata": {
  "kernelspec": {
   "display_name": "Python 3",
   "language": "python",
   "name": "python3"
  },
  "language_info": {
   "codemirror_mode": {
    "name": "ipython",
    "version": 3
   },
   "file_extension": ".py",
   "mimetype": "text/x-python",
   "name": "python",
   "nbconvert_exporter": "python",
   "pygments_lexer": "ipython3",
   "version": "3.6.4"
  }
 },
 "nbformat": 4,
 "nbformat_minor": 2
}
