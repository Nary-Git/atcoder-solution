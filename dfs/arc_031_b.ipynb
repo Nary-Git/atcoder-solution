{
 "cells": [
  {
   "cell_type": "code",
   "execution_count": null,
   "metadata": {},
   "outputs": [],
   "source": [
    "#ARC 031 B 埋め立て\n",
    "\n",
    "from collections import deque\n",
    "import sys\n",
    "\n",
    "A = [list(input()) for i in range(10)]\n",
    "\n",
    "todo = deque([])\n",
    "def dfs(x,y):\n",
    "    while len(todo) > 0:\n",
    "        x,y = todo.pop()\n",
    "        field[x][y] = 'x'\n",
    "        for i,j in ([1,0],[-1,0],[0,1],[0,-1]):\n",
    "                nx,ny = x+i,y+j\n",
    "                if nx >= 0 and nx < 10 and ny >= 0 and ny < 10 and field[nx][ny] == 'o':\n",
    "                    todo.append([nx,ny])\n",
    "\n",
    "for p in range(10):\n",
    "    for q in range(10):\n",
    "        if A[p][q] == 'x':\n",
    "            field = [k[:] for k in A]\n",
    "            field[p][q] = 'o'\n",
    "            cnt = 0\n",
    "            for i in range(10):\n",
    "                for j in range(10):\n",
    "                    if field[i][j] == 'o':\n",
    "                        todo.append([i,j])\n",
    "                        dfs(i,j)\n",
    "                        cnt += 1\n",
    "            if cnt == 1:\n",
    "                print('YES')\n",
    "                sys.exit()\n",
    "print('NO')"
   ]
  },
  {
   "cell_type": "code",
   "execution_count": null,
   "metadata": {},
   "outputs": [],
   "source": [
    "#ARC 031 B 埋め立て（解説付き）\n",
    "\n",
    "from collections import deque\n",
    "import sys\n",
    "\n",
    "A = [list(input()) for i in range(10)]\n",
    "\n",
    "todo = deque([])\n",
    "def dfs(x,y):\n",
    "    while len(todo) > 0:\n",
    "        x,y = todo.pop()\n",
    "        field[x][y] = 'x'\n",
    "        for i,j in ([1,0],[-1,0],[0,1],[0,-1]):\n",
    "                nx,ny = x+i,y+j\n",
    "                if nx >= 0 and nx < 10 and ny >= 0 and ny < 10 and field[nx][ny] == 'o':\n",
    "                    todo.append([nx,ny])\n",
    "\n",
    "#埋め立てる1マスを全探索\n",
    "for p in range(10):\n",
    "    for q in range(10):\n",
    "        if A[p][q] == 'x':\n",
    "            field = [k[:] for k in A] #Aをfieldにコピー(毎回初期化するということ)\n",
    "            field[p][q] = 'o'#1マス埋め立て\n",
    "            cnt = 0\n",
    "            # 埋め立てたうえで島数count\n",
    "            for i in range(10):\n",
    "                for j in range(10):\n",
    "                    if field[i][j] == 'o':\n",
    "                        todo.append([i,j])\n",
    "                        dfs(i,j)\n",
    "                        cnt += 1\n",
    "            if cnt == 1: #島数==1なら終了、そうでないなら次の1マスへ\n",
    "                print('Yes')\n",
    "                sys.exit()\n",
    "print('No')"
   ]
  }
 ],
 "metadata": {
  "kernelspec": {
   "display_name": "Python 3",
   "language": "python",
   "name": "python3"
  },
  "language_info": {
   "codemirror_mode": {
    "name": "ipython",
    "version": 3
   },
   "file_extension": ".py",
   "mimetype": "text/x-python",
   "name": "python",
   "nbconvert_exporter": "python",
   "pygments_lexer": "ipython3",
   "version": "3.6.5"
  }
 },
 "nbformat": 4,
 "nbformat_minor": 2
}
