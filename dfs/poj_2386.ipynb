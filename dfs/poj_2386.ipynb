{
 "cells": [
  {
   "cell_type": "code",
   "execution_count": null,
   "metadata": {},
   "outputs": [],
   "source": [
    "#Lake Counting from 蟻本\n",
    "\n",
    "h,w = map(int,input().split())\n",
    "field = [list(input()) for i in range(h)]\n",
    "\n",
    "from collections import deque\n",
    "todo = deque([])\n",
    "\n",
    "def dfs(x,y):\n",
    "    while len(todo) > 0:\n",
    "        x,y = todo.pop()\n",
    "        field[x][y] = '.'\n",
    "        for dx in range(-1,2):\n",
    "            for dy in range(-1,2):\n",
    "                nx = x + dx\n",
    "                ny = y + dy\n",
    "                if nx >= 0 and nx < h and ny >= 0 and ny < w and field[nx][ny] == 'W':\n",
    "                    todo.append([nx,ny])\n",
    "\n",
    "ans = 0\n",
    "for i in range(h):\n",
    "    for j in range(w):\n",
    "        if field[i][j] == 'W':\n",
    "            todo.append([i,j])\n",
    "            dfs(i,j)\n",
    "            ans += 1\n",
    "print(ans)"
   ]
  },
  {
   "cell_type": "code",
   "execution_count": null,
   "metadata": {},
   "outputs": [],
   "source": [
    "# Lake Counting(解説付き)\n",
    "\n",
    "h,w = map(int,input().split())\n",
    "field = [list(input()) for i in range(h)]\n",
    "\n",
    "from collections import deque\n",
    "\n",
    "#探索候補スタック作成（空）\n",
    "todo = deque([])\n",
    "\n",
    "#dfs関数定義\n",
    "def dfs(x,y):\n",
    "    while len(todo) > 0: #探索候補スタックが空になるまで\n",
    "        x,y = todo.pop() #スタックから1つ取り出す\n",
    "        field[x][y] = '.' #探索済みとして水たまりを消す\n",
    "        \n",
    "        #周囲8方向へ水たまり探索を進める\n",
    "        for dx in range(-1,2):\n",
    "            for dy in range(-1,2):\n",
    "                nx = x + dx\n",
    "                ny = y + dy\n",
    "                if nx >= 0 and nx < h and ny >= 0 and ny < w and field[nx][ny] == 'W':\n",
    "                #field内に収まっているかどうか、field[nx][ny]が水たまりであるかどうか\n",
    "                #条件を満たせば探索候補スタック入り\n",
    "                    todo.append([nx,ny])\n",
    "#以上の関数が一度実行されると、ある水たまりからつながっている水たまりのかたまり（池）が消える\n",
    "\n",
    "#最終的に何回関数が回ったかで池の個数を判定\n",
    "ans = 0\n",
    "for i in range(h):\n",
    "    for j in range(w):\n",
    "        if field[i][j] == 'W':\n",
    "            todo.append([i,j]) #開始地点が見つかったら候補スタック入り\n",
    "            dfs(i,j) #field[i][j]から始まる池が消失\n",
    "            ans += 1 #何個池が消失したかcount\n",
    "print(ans)"
   ]
  }
 ],
 "metadata": {
  "kernelspec": {
   "display_name": "Python 3",
   "language": "python",
   "name": "python3"
  },
  "language_info": {
   "codemirror_mode": {
    "name": "ipython",
    "version": 3
   },
   "file_extension": ".py",
   "mimetype": "text/x-python",
   "name": "python",
   "nbconvert_exporter": "python",
   "pygments_lexer": "ipython3",
   "version": "3.6.5"
  }
 },
 "nbformat": 4,
 "nbformat_minor": 2
}
