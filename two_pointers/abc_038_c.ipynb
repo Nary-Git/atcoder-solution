{
 "cells": [
  {
   "cell_type": "code",
   "execution_count": null,
   "metadata": {},
   "outputs": [],
   "source": [
    "n = int(input())\n",
    "a = list(map(int,input().split()))\n",
    "\n",
    "right = 0\n",
    "ans = 0\n",
    " \n",
    "for left in range(n):\n",
    "    # leftを固定した状態でrightを伸ばしていく\n",
    "    while right < n and (right == left or a[right-1] < a[right]):\n",
    "        right += 1\n",
    "    ans += right - left\n",
    "    if left == right:\n",
    "        right += 1\n",
    "print(ans)"
   ]
  }
 ],
 "metadata": {
  "kernelspec": {
   "display_name": "Python 3",
   "language": "python",
   "name": "python3"
  },
  "language_info": {
   "codemirror_mode": {
    "name": "ipython",
    "version": 3
   },
   "file_extension": ".py",
   "mimetype": "text/x-python",
   "name": "python",
   "nbconvert_exporter": "python",
   "pygments_lexer": "ipython3",
   "version": "3.7.3"
  }
 },
 "nbformat": 4,
 "nbformat_minor": 2
}
