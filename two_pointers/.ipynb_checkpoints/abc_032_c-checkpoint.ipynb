{
 "cells": [
  {
   "cell_type": "code",
   "execution_count": null,
   "metadata": {},
   "outputs": [],
   "source": [
    "N,K = map(int,input().split())\n",
    "s = [0]*N\n",
    "for i in range(N):\n",
    "    s[i] = int(input())\n",
    "\n",
    "right = 0\n",
    "pi = 1\n",
    "ans = -10**6\n",
    " \n",
    "for left in range(N):\n",
    "    # この問題の場合一番左が0だと数列自体の長さが答えとなる\n",
    "    if s[left] == 0:\n",
    "        ans = N\n",
    "        break\n",
    "    # leftを固定した状態でrightを伸ばしていく\n",
    "    while right < N and pi * s[right] <= K:\n",
    "        pi *= s[right]\n",
    "        right += 1\n",
    "    ans = max(ans, right - left)\n",
    "    # 一致してしまった場合の処理\n",
    "    if right == left:\n",
    "        right += 1\n",
    "    # leftを進めるのでこの問題の場合割る\n",
    "    else:\n",
    "        pi //= s[left]\n",
    "print(ans)"
   ]
  }
 ],
 "metadata": {
  "kernelspec": {
   "display_name": "Python 3",
   "language": "python",
   "name": "python3"
  },
  "language_info": {
   "codemirror_mode": {
    "name": "ipython",
    "version": 3
   },
   "file_extension": ".py",
   "mimetype": "text/x-python",
   "name": "python",
   "nbconvert_exporter": "python",
   "pygments_lexer": "ipython3",
   "version": "3.7.3"
  }
 },
 "nbformat": 4,
 "nbformat_minor": 2
}
