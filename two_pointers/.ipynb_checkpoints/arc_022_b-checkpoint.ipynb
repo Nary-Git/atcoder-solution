{
 "cells": [
  {
   "cell_type": "code",
   "execution_count": null,
   "metadata": {},
   "outputs": [],
   "source": [
    "n = int(input())\n",
    "a = list(map(int,input().split()))\n",
    "\n",
    "from collections import deque\n",
    "\n",
    "res = 0\n",
    "member = deque()\n",
    "\n",
    "right = 0\n",
    "\n",
    "for left in range(n):\n",
    "    while right < n and member.count(a[right]) != 1:\n",
    "        member.append(a[right])\n",
    "        right += 1\n",
    "        \n",
    "    res = max(res, right - left)\n",
    "        \n",
    "    if left == right:\n",
    "        right += 1\n",
    "    else:\n",
    "        member.popleft()\n",
    "        \n",
    "print(res)"
   ]
  }
 ],
 "metadata": {
  "kernelspec": {
   "display_name": "Python 3",
   "language": "python",
   "name": "python3"
  },
  "language_info": {
   "codemirror_mode": {
    "name": "ipython",
    "version": 3
   },
   "file_extension": ".py",
   "mimetype": "text/x-python",
   "name": "python",
   "nbconvert_exporter": "python",
   "pygments_lexer": "ipython3",
   "version": "3.7.3"
  }
 },
 "nbformat": 4,
 "nbformat_minor": 2
}
