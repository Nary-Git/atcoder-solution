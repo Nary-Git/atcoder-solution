{
 "cells": [
  {
   "cell_type": "code",
   "execution_count": null,
   "metadata": {},
   "outputs": [],
   "source": [
    "n = int(input())\n",
    "a = list(map(int,input().split()))\n",
    "\n",
    "res = 0\n",
    "right = 0\n",
    "sum = 0\n",
    "for left in range(n):\n",
    "    while (right < n and sum ^ a[right] == sum + a[right]):\n",
    "        sum += a[right]\n",
    "        right += 1\n",
    "    res += right - left\n",
    "    if left == right:\n",
    "        right += 1\n",
    "    else:\n",
    "        sum -= a[left]\n",
    "print(res)"
   ]
  }
 ],
 "metadata": {
  "kernelspec": {
   "display_name": "Python 3",
   "language": "python",
   "name": "python3"
  },
  "language_info": {
   "codemirror_mode": {
    "name": "ipython",
    "version": 3
   },
   "file_extension": ".py",
   "mimetype": "text/x-python",
   "name": "python",
   "nbconvert_exporter": "python",
   "pygments_lexer": "ipython3",
   "version": "3.7.3"
  }
 },
 "nbformat": 4,
 "nbformat_minor": 2
}
