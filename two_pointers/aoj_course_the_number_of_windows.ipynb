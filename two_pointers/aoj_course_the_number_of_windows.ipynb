{
 "cells": [
  {
   "cell_type": "code",
   "execution_count": null,
   "metadata": {},
   "outputs": [],
   "source": [
    "n,x = map(int,input().split())\n",
    "a = list(map(int,input().split()))\n",
    "\n",
    "ans = 0\n",
    "tmp = 0\n",
    "right = 0\n",
    "\n",
    "for left in range(n):\n",
    "\n",
    "    while right < n and tmp + a[right] <= x:\n",
    "        tmp += a[right]\n",
    "        right += 1    \n",
    "        \n",
    "    ans += right - left\n",
    "    \n",
    "    if right == left:\n",
    "        right += 1\n",
    "    else:\n",
    "    tmp -= a[left]\n",
    "    \n",
    "print(ans,count)"
   ]
  }
 ],
 "metadata": {
  "kernelspec": {
   "display_name": "Python 3",
   "language": "python",
   "name": "python3"
  },
  "language_info": {
   "codemirror_mode": {
    "name": "ipython",
    "version": 3
   },
   "file_extension": ".py",
   "mimetype": "text/x-python",
   "name": "python",
   "nbconvert_exporter": "python",
   "pygments_lexer": "ipython3",
   "version": "3.7.3"
  }
 },
 "nbformat": 4,
 "nbformat_minor": 2
}
